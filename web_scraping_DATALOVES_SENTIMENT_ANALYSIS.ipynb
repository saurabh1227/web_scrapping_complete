{
  "cells": [
    {
      "cell_type": "markdown",
      "source": [
        "https://drive.google.com/drive/folders/1NGY3wljBb10DlxgizPayoQqI-_eAch8G?usp=sharing"
      ],
      "metadata": {
        "id": "hcXGVLQIwkQy"
      }
    },
    {
      "cell_type": "markdown",
      "metadata": {
        "id": "Njbf-VdDw3sD"
      },
      "source": [
        "# Introduction to Web Scraping"
      ]
    },
    {
      "cell_type": "code",
      "source": [
        "from google.colab import drive\n",
        "drive.mount('/content/drive')"
      ],
      "metadata": {
        "colab": {
          "base_uri": "https://localhost:8080/"
        },
        "id": "kNvQekKsxgGo",
        "outputId": "f7dbaa75-31e0-4b1d-968a-eb24b968a669"
      },
      "execution_count": null,
      "outputs": [
        {
          "output_type": "stream",
          "name": "stdout",
          "text": [
            "Mounted at /content/drive\n"
          ]
        }
      ]
    },
    {
      "cell_type": "code",
      "source": [
        "%cd drive/MyDrive/notebooks/Web_scraping/"
      ],
      "metadata": {
        "colab": {
          "base_uri": "https://localhost:8080/"
        },
        "id": "BdVjjXMFxuP9",
        "outputId": "b2fbd344-6edd-45c6-bb96-fb359df7c090"
      },
      "execution_count": null,
      "outputs": [
        {
          "output_type": "stream",
          "name": "stdout",
          "text": [
            "/content/drive/MyDrive/notebooks/Web_scraping\n"
          ]
        }
      ]
    },
    {
      "cell_type": "markdown",
      "source": [
        "## A \"Hello World\" Example"
      ],
      "metadata": {
        "id": "Ngt5hVp_EONW"
      }
    },
    {
      "cell_type": "code",
      "execution_count": null,
      "metadata": {
        "id": "L1_aENRkw3sY",
        "colab": {
          "base_uri": "https://localhost:8080/"
        },
        "outputId": "ddfb0472-c10c-4931-c61f-2c82e3ee5657"
      },
      "outputs": [
        {
          "output_type": "stream",
          "name": "stdout",
          "text": [
            "<!DOCTYPE html>\n",
            "<html>\n",
            "<head>\n",
            "  <title>My first Web Scraping Example</title>\n",
            "</head>\n",
            "<body>\n",
            "\n",
            "<p id=\"p1\" class=\"c1\"> Data in the first Para </p>\n",
            "<p id=\"p2\" class=\"c1\"> Data in the Second Para </p>\n",
            "\n",
            "</body>\n",
            "</html>\n",
            "p1 c1  Data in the first Para \n",
            "p2 c1  Data in the Second Para \n"
          ]
        }
      ],
      "source": [
        "from bs4 import BeautifulSoup\n",
        "\n",
        "raw_html = open('/content/sample_data/test1.html').read()\n",
        "print(raw_html)\n",
        "html = BeautifulSoup(raw_html, 'html.parser')\n",
        "\n",
        "for p in html.find_all('p'):\n",
        "    print(p['id'],p['class'][0],p.text)\n"
      ]
    },
    {
      "cell_type": "markdown",
      "source": [
        "## Extract the list of IITs"
      ],
      "metadata": {
        "id": "cRQ8V7ceESyV"
      }
    },
    {
      "cell_type": "code",
      "execution_count": null,
      "metadata": {
        "id": "69R-d2pBw3sj"
      },
      "outputs": [],
      "source": [
        "from urllib.request import urlopen\n",
        "\n",
        "url = \"https://en.wikipedia.org/wiki/Indian_Institutes_of_Technology\"\n",
        "html = urlopen(url)"
      ]
    },
    {
      "cell_type": "code",
      "execution_count": null,
      "metadata": {
        "id": "gx3tGKUOw3sn",
        "colab": {
          "base_uri": "https://localhost:8080/"
        },
        "outputId": "7d4f371c-7c51-4670-a644-77516dd27ae7"
      },
      "outputs": [
        {
          "output_type": "execute_result",
          "data": {
            "text/plain": [
              "bs4.BeautifulSoup"
            ]
          },
          "metadata": {},
          "execution_count": 6
        }
      ],
      "source": [
        "soup = BeautifulSoup(html, 'html.parser')\n",
        "type(soup)"
      ]
    },
    {
      "cell_type": "code",
      "execution_count": null,
      "metadata": {
        "colab": {
          "base_uri": "https://localhost:8080/",
          "height": 35
        },
        "id": "8ObuZbiqw3sq",
        "outputId": "476294f7-af86-4b2f-9b69-f04bc6d50fef"
      },
      "outputs": [
        {
          "output_type": "execute_result",
          "data": {
            "text/plain": [
              "'Indian Institutes of Technology - Wikipedia'"
            ],
            "application/vnd.google.colaboratory.intrinsic+json": {
              "type": "string"
            }
          },
          "metadata": {},
          "execution_count": 47
        }
      ],
      "source": [
        "soup.title.text"
      ]
    },
    {
      "cell_type": "code",
      "execution_count": null,
      "metadata": {
        "id": "L1jHmGcQw3sz"
      },
      "outputs": [],
      "source": [
        "text = soup.get_text()\n",
        "print(text)"
      ]
    },
    {
      "cell_type": "code",
      "execution_count": null,
      "metadata": {
        "id": "Z40TkXmpw3s5"
      },
      "outputs": [],
      "source": [
        "all_links = soup.find_all(\"a\")\n",
        "for link in all_links:\n",
        "    print(link.get(\"href\"))"
      ]
    },
    {
      "cell_type": "code",
      "execution_count": null,
      "metadata": {
        "id": "TbedidKPw3s9",
        "colab": {
          "base_uri": "https://localhost:8080/"
        },
        "outputId": "28931ac0-67d9-44d3-cea3-4da705008c2c"
      },
      "outputs": [
        {
          "output_type": "execute_result",
          "data": {
            "text/plain": [
              "<table class=\"wikitable sortable\">\n",
              "<caption>IITs and their locations, sorted by date of establishment<sup class=\"reference\" id=\"cite_ref-IIT_act_2-1\"><a href=\"#cite_note-IIT_act-2\">[2]</a></sup><sup class=\"reference\" id=\"cite_ref-IIT_Act_As_amended_till_2012_3-1\"><a href=\"#cite_note-IIT_Act_As_amended_till_2012-3\">[3]</a></sup><sup class=\"reference\" id=\"cite_ref-hindustantimes.com_4-1\"><a href=\"#cite_note-hindustantimes.com-4\">[4]</a></sup><sup class=\"reference\" id=\"cite_ref-Gazette_Notification_of_the_Bill_7-0\"><a href=\"#cite_note-Gazette_Notification_of_the_Bill-7\">[7]</a></sup><sup class=\"reference\" id=\"cite_ref-IIT_Kharagpur_8-0\"><a href=\"#cite_note-IIT_Kharagpur-8\">[8]</a></sup>\n",
              "</caption>\n",
              "<tbody><tr>\n",
              "<th>No.\n",
              "</th>\n",
              "<th>Name</th>\n",
              "<th>Abbreviation\n",
              "</th>\n",
              "<th>Founded</th>\n",
              "<th>Established as IIT\n",
              "</th>\n",
              "<th>State/UT\n",
              "</th>\n",
              "<th><a href=\"/wiki/Joint_Entrance_Examination_%E2%80%93_Advanced#Seats\" title=\"Joint Entrance Examination – Advanced\">UG Seats</a> 2020\n",
              "</th></tr>\n",
              "<tr>\n",
              "<td>1\n",
              "</td>\n",
              "<td><a href=\"/wiki/IIT_Kharagpur\" title=\"IIT Kharagpur\">IIT Kharagpur</a>\n",
              "</td>\n",
              "<td>IITKGP\n",
              "</td>\n",
              "<td>1951\n",
              "</td>\n",
              "<td>1951\n",
              "</td>\n",
              "<td><a href=\"/wiki/West_Bengal\" title=\"West Bengal\">West Bengal</a>\n",
              "</td>\n",
              "<td>1673\n",
              "</td></tr>\n",
              "<tr>\n",
              "<td>2\n",
              "</td>\n",
              "<td><a class=\"mw-redirect\" href=\"/wiki/Indian_Institute_of_Technology_Bombay\" title=\"Indian Institute of Technology Bombay\">IIT Bombay</a>\n",
              "</td>\n",
              "<td>IITB\n",
              "</td>\n",
              "<td>1958\n",
              "</td>\n",
              "<td>1958\n",
              "</td>\n",
              "<td><a href=\"/wiki/Maharashtra\" title=\"Maharashtra\">Maharashtra</a>\n",
              "</td>\n",
              "<td>1204\n",
              "</td></tr>\n",
              "<tr>\n",
              "<td>3\n",
              "</td>\n",
              "<td><a href=\"/wiki/IIT_Madras\" title=\"IIT Madras\">IIT Madras</a></td>\n",
              "<td>IITM\n",
              "</td>\n",
              "<td>1959</td>\n",
              "<td>1959\n",
              "</td>\n",
              "<td><a href=\"/wiki/Tamil_Nadu\" title=\"Tamil Nadu\">Tamil Nadu</a>\n",
              "</td>\n",
              "<td>1054\n",
              "</td></tr>\n",
              "<tr>\n",
              "<td>4\n",
              "</td>\n",
              "<td><a class=\"mw-redirect\" href=\"/wiki/Indian_Institute_of_Technology_Kanpur\" title=\"Indian Institute of Technology Kanpur\">IIT Kanpur</a></td>\n",
              "<td>IITK\n",
              "</td>\n",
              "<td>1959</td>\n",
              "<td>1959\n",
              "</td>\n",
              "<td><a href=\"/wiki/Uttar_Pradesh\" title=\"Uttar Pradesh\">Uttar Pradesh</a>\n",
              "</td>\n",
              "<td>942\n",
              "</td></tr>\n",
              "<tr>\n",
              "<td>5\n",
              "</td>\n",
              "<td><a class=\"mw-redirect\" href=\"/wiki/Indian_Institute_of_Technology_Delhi\" title=\"Indian Institute of Technology Delhi\">IIT Delhi</a></td>\n",
              "<td>IITD\n",
              "</td>\n",
              "<td>1961</td>\n",
              "<td>1961\n",
              "</td>\n",
              "<td><a href=\"/wiki/Delhi\" title=\"Delhi\">Delhi</a>\n",
              "</td>\n",
              "<td>1152\n",
              "</td></tr>\n",
              "<tr>\n",
              "<td>6\n",
              "</td>\n",
              "<td><a class=\"mw-redirect\" href=\"/wiki/Indian_Institute_of_Technology_Guwahati\" title=\"Indian Institute of Technology Guwahati\">IIT Guwahati</a></td>\n",
              "<td>IITG\n",
              "</td>\n",
              "<td>1994</td>\n",
              "<td>1994\n",
              "</td>\n",
              "<td><a href=\"/wiki/Assam\" title=\"Assam\">Assam</a>\n",
              "</td>\n",
              "<td>795\n",
              "</td></tr>\n",
              "<tr>\n",
              "<td>7\n",
              "</td>\n",
              "<td><a class=\"mw-redirect\" href=\"/wiki/Indian_Institute_of_Technology_Roorkee\" title=\"Indian Institute of Technology Roorkee\">IIT Roorkee</a></td>\n",
              "<td>IITR\n",
              "</td>\n",
              "<td>1847</td>\n",
              "<td>2001<sup class=\"reference\" id=\"cite_ref-:1_9-0\"><a href=\"#cite_note-:1-9\">[9]</a></sup>\n",
              "</td>\n",
              "<td><a href=\"/wiki/Uttarakhand\" title=\"Uttarakhand\">Uttarakhand</a>\n",
              "</td>\n",
              "<td>1218\n",
              "</td></tr>\n",
              "<tr>\n",
              "<td>8\n",
              "</td>\n",
              "<td><a class=\"mw-redirect\" href=\"/wiki/Indian_Institute_of_Technology_Ropar\" title=\"Indian Institute of Technology Ropar\">IIT Ropar</a></td>\n",
              "<td>IITRPR\n",
              "</td>\n",
              "<td>2008</td>\n",
              "<td>2008\n",
              "</td>\n",
              "<td><a class=\"mw-redirect\" href=\"/wiki/Punjab_(India)\" title=\"Punjab (India)\">Punjab</a>\n",
              "</td>\n",
              "<td>292\n",
              "</td></tr>\n",
              "<tr>\n",
              "<td>9\n",
              "</td>\n",
              "<td><a class=\"mw-redirect\" href=\"/wiki/Indian_Institute_of_Technology_Bhubaneswar\" title=\"Indian Institute of Technology Bhubaneswar\">IIT Bhubaneswar</a></td>\n",
              "<td>IITBBS\n",
              "</td>\n",
              "<td>2008</td>\n",
              "<td>2008\n",
              "</td>\n",
              "<td><a href=\"/wiki/Odisha\" title=\"Odisha\">Odisha</a>\n",
              "</td>\n",
              "<td>437\n",
              "</td></tr>\n",
              "<tr>\n",
              "<td>10\n",
              "</td>\n",
              "<td><a class=\"mw-redirect\" href=\"/wiki/Indian_Institute_of_Technology_Gandhinagar\" title=\"Indian Institute of Technology Gandhinagar\">IIT Gandhinagar</a></td>\n",
              "<td>IITGN\n",
              "</td>\n",
              "<td>2008</td>\n",
              "<td>2008\n",
              "</td>\n",
              "<td><a href=\"/wiki/Gujarat\" title=\"Gujarat\">Gujarat</a>\n",
              "</td>\n",
              "<td>226\n",
              "</td></tr>\n",
              "<tr>\n",
              "<td>11\n",
              "</td>\n",
              "<td><a href=\"/wiki/IIT_Hyderabad\" title=\"IIT Hyderabad\">IIT Hyderabad</a></td>\n",
              "<td>IITH\n",
              "</td>\n",
              "<td>2008</td>\n",
              "<td>2008\n",
              "</td>\n",
              "<td><a href=\"/wiki/Telangana\" title=\"Telangana\">Telangana</a>\n",
              "</td>\n",
              "<td>425\n",
              "</td></tr>\n",
              "<tr>\n",
              "<td>12\n",
              "</td>\n",
              "<td><a class=\"mw-redirect\" href=\"/wiki/Indian_Institute_of_Technology_Jodhpur\" title=\"Indian Institute of Technology Jodhpur\">IIT Jodhpur</a></td>\n",
              "<td>IITJ\n",
              "</td>\n",
              "<td>2008</td>\n",
              "<td>2008\n",
              "</td>\n",
              "<td><a href=\"/wiki/Rajasthan\" title=\"Rajasthan\">Rajasthan</a>\n",
              "</td>\n",
              "<td>451\n",
              "</td></tr>\n",
              "<tr>\n",
              "<td>13\n",
              "</td>\n",
              "<td><a class=\"mw-redirect\" href=\"/wiki/Indian_Institute_of_Technology_Patna\" title=\"Indian Institute of Technology Patna\">IIT Patna</a></td>\n",
              "<td>IITP\n",
              "</td>\n",
              "<td>2008</td>\n",
              "<td>2008\n",
              "</td>\n",
              "<td><a href=\"/wiki/Bihar\" title=\"Bihar\">Bihar</a>\n",
              "</td>\n",
              "<td>363\n",
              "</td></tr>\n",
              "<tr>\n",
              "<td>14\n",
              "</td>\n",
              "<td><a class=\"mw-redirect\" href=\"/wiki/Indian_Institute_of_Technology_Indore\" title=\"Indian Institute of Technology Indore\">IIT Indore</a></td>\n",
              "<td>IITI\n",
              "</td>\n",
              "<td>2009</td>\n",
              "<td>2009\n",
              "</td>\n",
              "<td><a href=\"/wiki/Madhya_Pradesh\" title=\"Madhya Pradesh\">Madhya Pradesh</a>\n",
              "</td>\n",
              "<td>325\n",
              "</td></tr>\n",
              "<tr>\n",
              "<td>15\n",
              "</td>\n",
              "<td><a class=\"mw-redirect\" href=\"/wiki/Indian_Institute_of_Technology_Mandi\" title=\"Indian Institute of Technology Mandi\">IIT Mandi</a></td>\n",
              "<td>IITMD\n",
              "</td>\n",
              "<td>2009</td>\n",
              "<td>2009\n",
              "</td>\n",
              "<td><a href=\"/wiki/Himachal_Pradesh\" title=\"Himachal Pradesh\">Himachal Pradesh</a>\n",
              "</td>\n",
              "<td>310\n",
              "</td></tr>\n",
              "<tr>\n",
              "<td>16\n",
              "</td>\n",
              "<td><a class=\"mw-redirect\" href=\"/wiki/Indian_Institute_of_Technology,_BHU\" title=\"Indian Institute of Technology, BHU\">IIT (BHU) Varanasi</a></td>\n",
              "<td>IIT (BHU)\n",
              "</td>\n",
              "<td>1919</td>\n",
              "<td>2012<sup class=\"reference\" id=\"cite_ref-:2_10-0\"><a href=\"#cite_note-:2-10\">[10]</a></sup>\n",
              "</td>\n",
              "<td><a href=\"/wiki/Uttar_Pradesh\" title=\"Uttar Pradesh\">Uttar Pradesh</a>\n",
              "</td>\n",
              "<td>1513\n",
              "</td></tr>\n",
              "<tr>\n",
              "<td>17\n",
              "</td>\n",
              "<td><a class=\"mw-redirect\" href=\"/wiki/Indian_Institute_of_Technology_Palakkad\" title=\"Indian Institute of Technology Palakkad\">IIT Palakkad</a></td>\n",
              "<td>IITPKD\n",
              "</td>\n",
              "<td>2015<sup class=\"reference\" id=\"cite_ref-:0_11-0\"><a href=\"#cite_note-:0-11\">[11]</a></sup></td>\n",
              "<td>2015\n",
              "</td>\n",
              "<td><a href=\"/wiki/Kerala\" title=\"Kerala\">Kerala</a>\n",
              "</td>\n",
              "<td>174\n",
              "</td></tr>\n",
              "<tr>\n",
              "<td>18\n",
              "</td>\n",
              "<td><a class=\"mw-redirect\" href=\"/wiki/Indian_Institute_of_Technology_Tirupati\" title=\"Indian Institute of Technology Tirupati\">IIT Tirupati</a></td>\n",
              "<td>IITTP\n",
              "</td>\n",
              "<td>2015</td>\n",
              "<td>2015\n",
              "</td>\n",
              "<td><a href=\"/wiki/Andhra_Pradesh\" title=\"Andhra Pradesh\">Andhra Pradesh</a>\n",
              "</td>\n",
              "<td>224\n",
              "</td></tr>\n",
              "<tr>\n",
              "<td>19\n",
              "</td>\n",
              "<td><a class=\"mw-redirect\" href=\"/wiki/Indian_Institute_of_Technology_Dhanbad\" title=\"Indian Institute of Technology Dhanbad\">IIT Dhanbad</a></td>\n",
              "<td>IIT (ISM)\n",
              "</td>\n",
              "<td>1926</td>\n",
              "<td>2016 <sup class=\"reference\" id=\"cite_ref-:3_12-0\"><a href=\"#cite_note-:3-12\">[12]</a></sup>\n",
              "</td>\n",
              "<td><a href=\"/wiki/Jharkhand\" title=\"Jharkhand\">Jharkhand</a>\n",
              "</td>\n",
              "<td>1007\n",
              "</td></tr>\n",
              "<tr>\n",
              "<td>20\n",
              "</td>\n",
              "<td><a class=\"mw-redirect\" href=\"/wiki/Indian_Institute_of_Technology_Bhilai\" title=\"Indian Institute of Technology Bhilai\">IIT Bhilai</a></td>\n",
              "<td>IITBH\n",
              "</td>\n",
              "<td>2016<sup class=\"reference\" id=\"cite_ref-IndianExpress_13-0\"><a href=\"#cite_note-IndianExpress-13\">[13]</a></sup>\n",
              "</td>\n",
              "<td>2016\n",
              "</td>\n",
              "<td><a href=\"/wiki/Chhattisgarh\" title=\"Chhattisgarh\">Chhattisgarh</a>\n",
              "</td>\n",
              "<td>173\n",
              "</td></tr>\n",
              "<tr>\n",
              "<td>21\n",
              "</td>\n",
              "<td><a href=\"/wiki/IIT_Dharwad\" title=\"IIT Dharwad\">IIT Dharwad</a></td>\n",
              "<td>IITDH\n",
              "</td>\n",
              "<td>2016<sup class=\"reference\" id=\"cite_ref-m.timesofindia.com_14-0\"><a href=\"#cite_note-m.timesofindia.com-14\">[14]</a></sup>\n",
              "</td>\n",
              "<td>2016\n",
              "</td>\n",
              "<td><a href=\"/wiki/Karnataka\" title=\"Karnataka\">Karnataka</a>\n",
              "</td>\n",
              "<td>160\n",
              "</td></tr>\n",
              "<tr>\n",
              "<td>22\n",
              "</td>\n",
              "<td><a class=\"mw-redirect\" href=\"/wiki/Indian_Institute_of_Technology_Jammu\" title=\"Indian Institute of Technology Jammu\">IIT Jammu</a></td>\n",
              "<td>IITJMU\n",
              "</td>\n",
              "<td>2016<sup class=\"reference\" id=\"cite_ref-Press_Trust_of_India_15-0\"><a href=\"#cite_note-Press_Trust_of_India-15\">[15]</a></sup>\n",
              "</td>\n",
              "<td>2016\n",
              "</td>\n",
              "<td><a href=\"/wiki/Jammu_and_Kashmir_(union_territory)\" title=\"Jammu and Kashmir (union territory)\">Jammu and Kashmir</a>\n",
              "</td>\n",
              "<td>227\n",
              "</td></tr>\n",
              "<tr>\n",
              "<td>23\n",
              "</td>\n",
              "<td><a class=\"mw-redirect\" href=\"/wiki/Indian_Institute_of_Technology_Goa\" title=\"Indian Institute of Technology Goa\">IIT Goa</a></td>\n",
              "<td>IIT GOA\n",
              "</td>\n",
              "<td>2016<sup class=\"reference\" id=\"cite_ref-The_Times_of_India_16-0\"><a href=\"#cite_note-The_Times_of_India-16\">[16]</a></sup>\n",
              "</td>\n",
              "<td>2016\n",
              "</td>\n",
              "<td><a href=\"/wiki/Goa\" title=\"Goa\">Goa</a>\n",
              "</td>\n",
              "<td>125\n",
              "</td></tr></tbody></table>"
            ]
          },
          "metadata": {},
          "execution_count": 49
        }
      ],
      "source": [
        "table = soup.find('table',{'class':'wikitable sortable'})\n",
        "table"
      ]
    },
    {
      "cell_type": "code",
      "execution_count": null,
      "metadata": {
        "collapsed": true,
        "id": "eJ0dIgunw3tE"
      },
      "outputs": [],
      "source": [
        "import pandas as pd\n",
        "df = pd.DataFrame(columns=['S. No','Name','Location'])"
      ]
    },
    {
      "cell_type": "code",
      "execution_count": null,
      "metadata": {
        "collapsed": true,
        "id": "LZfwSULbw3tJ"
      },
      "outputs": [],
      "source": [
        "trs = table.find_all('tr')\n",
        "for tr in trs:\n",
        "    tds = tr.find_all('td')\n",
        "    if len(tds)>0:\n",
        "        df = df.append({'S. No':tds[0].text,'Name':tds[1].text,'Location':tds[2].text},ignore_index=True)"
      ]
    },
    {
      "cell_type": "code",
      "execution_count": null,
      "metadata": {
        "id": "WPXFckW3w3tL"
      },
      "outputs": [],
      "source": [
        "print(df)"
      ]
    },
    {
      "cell_type": "markdown",
      "source": [
        "## Sentiment anaysis of online Movie Reviews"
      ],
      "metadata": {
        "id": "YpBZHJFODap2"
      }
    },
    {
      "source": [
        "!pip install requests beautifulsoup4"
      ],
      "cell_type": "code",
      "metadata": {
        "colab": {
          "base_uri": "https://localhost:8080/"
        },
        "id": "hNzbHLzkkCxa",
        "outputId": "e3f1bf98-4b68-4cc1-a37e-3d92e54cbc36"
      },
      "execution_count": 16,
      "outputs": [
        {
          "output_type": "stream",
          "name": "stdout",
          "text": [
            "Requirement already satisfied: requests in /usr/local/lib/python3.10/dist-packages (2.32.3)\n",
            "Requirement already satisfied: beautifulsoup4 in /usr/local/lib/python3.10/dist-packages (4.12.3)\n",
            "Requirement already satisfied: charset-normalizer<4,>=2 in /usr/local/lib/python3.10/dist-packages (from requests) (3.3.2)\n",
            "Requirement already satisfied: idna<4,>=2.5 in /usr/local/lib/python3.10/dist-packages (from requests) (3.10)\n",
            "Requirement already satisfied: urllib3<3,>=1.21.1 in /usr/local/lib/python3.10/dist-packages (from requests) (2.2.3)\n",
            "Requirement already satisfied: certifi>=2017.4.17 in /usr/local/lib/python3.10/dist-packages (from requests) (2024.8.30)\n",
            "Requirement already satisfied: soupsieve>1.2 in /usr/local/lib/python3.10/dist-packages (from beautifulsoup4) (2.6)\n"
          ]
        }
      ]
    },
    {
      "source": [
        "from urllib.request import urlopen, Request\n",
        "from bs4 import BeautifulSoup\n",
        "import requests\n",
        "\n",
        "# Access the Raw data and Parse it.\n",
        "url = \"https://www.imdb.com/title/tt8291224/reviews?ref_=tt_ql_3\"\n",
        "\n",
        "# Create a request object with headers to mimic a browser\n",
        "headers = {\n",
        "    'User-Agent': 'Mozilla/5.0 (Windows NT 10.0; Win64; x64) AppleWebKit/537.36 (KHTML, like Gecko) Chrome/58.0.3029.110 Safari/537.3'}\n",
        "req = Request(url, headers=headers)\n",
        "\n",
        "\n",
        "try:\n",
        "    # Use urlopen with the request object\n",
        "    html = urlopen(req)\n",
        "    soup = BeautifulSoup(html, 'html.parser')\n",
        "    print(soup.title.text) # Print the title for verification\n",
        "except Exception as e:\n",
        "    print(f\"An error occurred: {e}\") # Print any errors encountered"
      ],
      "cell_type": "code",
      "metadata": {
        "colab": {
          "base_uri": "https://localhost:8080/"
        },
        "id": "quP3en4bkKWw",
        "outputId": "4b4abda2-9768-489b-b037-5c79a32e3f46"
      },
      "execution_count": 17,
      "outputs": [
        {
          "output_type": "stream",
          "name": "stdout",
          "text": [
            "Uri: The Surgical Strike (2019) - Uri: The Surgical Strike (2019) - User Reviews - IMDb\n"
          ]
        }
      ]
    },
    {
      "source": [
        "import requests\n",
        "from bs4 import BeautifulSoup\n",
        "\n",
        "url = \"https://www.imdb.com/title/tt8291224/reviews?ref_=tt_ql_3\"\n",
        "\n",
        "try:\n",
        "    response = requests.get(url)\n",
        "    response.raise_for_status()  # Raise an exception for bad status codes (like 403)\n",
        "    soup = BeautifulSoup(response.content, 'html.parser')\n",
        "    print(soup.title.text)\n",
        "except requests.exceptions.RequestException as e:\n",
        "    print(f\"An error occurred: {e}\")"
      ],
      "cell_type": "code",
      "metadata": {
        "colab": {
          "base_uri": "https://localhost:8080/"
        },
        "id": "kw1vThAdkoP8",
        "outputId": "7b75bb7c-3e29-43d7-ec9d-3a15ee4af8a8"
      },
      "execution_count": 18,
      "outputs": [
        {
          "output_type": "stream",
          "name": "stdout",
          "text": [
            "An error occurred: 403 Client Error: Forbidden for url: https://www.imdb.com/title/tt8291224/reviews?ref_=tt_ql_3\n"
          ]
        }
      ]
    },
    {
      "source": [
        "!pip install requests beautifulsoup4"
      ],
      "cell_type": "code",
      "metadata": {
        "colab": {
          "base_uri": "https://localhost:8080/"
        },
        "id": "386x7g5wj9vX",
        "outputId": "55d7009a-28a1-4c9f-b96c-30075fd9d8dc"
      },
      "execution_count": 19,
      "outputs": [
        {
          "output_type": "stream",
          "name": "stdout",
          "text": [
            "Requirement already satisfied: requests in /usr/local/lib/python3.10/dist-packages (2.32.3)\n",
            "Requirement already satisfied: beautifulsoup4 in /usr/local/lib/python3.10/dist-packages (4.12.3)\n",
            "Requirement already satisfied: charset-normalizer<4,>=2 in /usr/local/lib/python3.10/dist-packages (from requests) (3.3.2)\n",
            "Requirement already satisfied: idna<4,>=2.5 in /usr/local/lib/python3.10/dist-packages (from requests) (3.10)\n",
            "Requirement already satisfied: urllib3<3,>=1.21.1 in /usr/local/lib/python3.10/dist-packages (from requests) (2.2.3)\n",
            "Requirement already satisfied: certifi>=2017.4.17 in /usr/local/lib/python3.10/dist-packages (from requests) (2024.8.30)\n",
            "Requirement already satisfied: soupsieve>1.2 in /usr/local/lib/python3.10/dist-packages (from beautifulsoup4) (2.6)\n"
          ]
        }
      ]
    },
    {
      "cell_type": "code",
      "source": [
        "from urllib.request import urlopen, Request\n",
        "\n",
        "url = \"https://www.imdb.com/title/tt8291224/reviews?ref_=tt_ql_3\"\n",
        "\n",
        "# Create a Request object with a custom User-Agent header\n",
        "req = Request(url, headers={'User-Agent': 'Mozilla/5.0'})\n",
        "# This User-Agent mimics a common web browser\n",
        "\n",
        "try:\n",
        "    html = urlopen(req) # Use the Request object instead of just the URL\n",
        "    # ... rest of your code to process the HTML ...\n",
        "except Exception as e:\n",
        "    print(f\"An error occurred: {e}\")"
      ],
      "metadata": {
        "id": "ifkUrfcpzMK7"
      },
      "execution_count": 20,
      "outputs": []
    },
    {
      "cell_type": "code",
      "source": [
        "positive = open('/content/sample_data/rt-polarity-pos.txt', encoding='cp1252')\n",
        "\n",
        "negative = open('/content/sample_data/rt-polarity-neg.txt', encoding='cp1252')"
      ],
      "metadata": {
        "id": "jirBkXAb0RXL"
      },
      "execution_count": 22,
      "outputs": []
    },
    {
      "cell_type": "code",
      "source": [
        "'''import nltk as nl\n",
        "nl.download()'''"
      ],
      "metadata": {
        "id": "4RB9KVdE00EA",
        "colab": {
          "base_uri": "https://localhost:8080/"
        },
        "outputId": "cd4554e0-5349-4be1-db15-ea2f211c7e85"
      },
      "execution_count": 25,
      "outputs": [
        {
          "name": "stdout",
          "output_type": "stream",
          "text": [
            "NLTK Downloader\n",
            "---------------------------------------------------------------------------\n",
            "    d) Download   l) List    u) Update   c) Config   h) Help   q) Quit\n",
            "---------------------------------------------------------------------------\n",
            "Downloader> d\n",
            "\n",
            "Download which package (l=list; x=cancel)?\n",
            "  Identifier> l\n",
            "Packages:\n",
            "  [ ] abc................. Australian Broadcasting Commission 2006\n",
            "  [ ] alpino.............. Alpino Dutch Treebank\n",
            "  [ ] averaged_perceptron_tagger Averaged Perceptron Tagger\n",
            "  [ ] averaged_perceptron_tagger_eng Averaged Perceptron Tagger (JSON)\n",
            "  [ ] averaged_perceptron_tagger_ru Averaged Perceptron Tagger (Russian)\n",
            "  [ ] averaged_perceptron_tagger_rus Averaged Perceptron Tagger (Russian)\n",
            "  [ ] basque_grammars..... Grammars for Basque\n",
            "  [ ] bcp47............... BCP-47 Language Tags\n",
            "  [ ] biocreative_ppi..... BioCreAtIvE (Critical Assessment of Information\n",
            "                           Extraction Systems in Biology)\n",
            "  [ ] bllip_wsj_no_aux.... BLLIP Parser: WSJ Model\n",
            "  [ ] book_grammars....... Grammars from NLTK Book\n",
            "  [ ] brown............... Brown Corpus\n",
            "  [ ] brown_tei........... Brown Corpus (TEI XML Version)\n",
            "  [ ] cess_cat............ CESS-CAT Treebank\n",
            "  [ ] cess_esp............ CESS-ESP Treebank\n",
            "  [ ] chat80.............. Chat-80 Data Files\n",
            "  [ ] city_database....... City Database\n",
            "  [ ] cmudict............. The Carnegie Mellon Pronouncing Dictionary (0.6)\n",
            "  [ ] comparative_sentences Comparative Sentence Dataset\n",
            "Hit Enter to continue: \n",
            "  [ ] comtrans............ ComTrans Corpus Sample\n",
            "  [ ] conll2000........... CONLL 2000 Chunking Corpus\n",
            "  [ ] conll2002........... CONLL 2002 Named Entity Recognition Corpus\n",
            "  [ ] conll2007........... Dependency Treebanks from CoNLL 2007 (Catalan\n",
            "                           and Basque Subset)\n",
            "  [ ] crubadan............ Crubadan Corpus\n",
            "  [ ] dependency_treebank. Dependency Parsed Treebank\n",
            "  [ ] dolch............... Dolch Word List\n",
            "  [ ] europarl_raw........ Sample European Parliament Proceedings Parallel\n",
            "                           Corpus\n",
            "  [ ] extended_omw........ Extended Open Multilingual WordNet\n",
            "  [ ] floresta............ Portuguese Treebank\n",
            "  [ ] framenet_v15........ FrameNet 1.5\n",
            "  [ ] framenet_v17........ FrameNet 1.7\n",
            "  [ ] gazetteers.......... Gazeteer Lists\n",
            "  [ ] genesis............. Genesis Corpus\n",
            "  [ ] gutenberg........... Project Gutenberg Selections\n",
            "  [ ] ieer................ NIST IE-ER DATA SAMPLE\n",
            "  [ ] inaugural........... C-Span Inaugural Address Corpus\n",
            "  [ ] indian.............. Indian Language POS-Tagged Corpus\n",
            "  [ ] jeita............... JEITA Public Morphologically Tagged Corpus (in\n",
            "                           ChaSen format)\n",
            "Hit Enter to continue: q\n",
            "\n",
            "Download which package (l=list; x=cancel)?\n",
            "  Identifier> x\n",
            "\n",
            "---------------------------------------------------------------------------\n",
            "    d) Download   l) List    u) Update   c) Config   h) Help   q) Quit\n",
            "---------------------------------------------------------------------------\n",
            "Downloader> q\n"
          ]
        },
        {
          "output_type": "execute_result",
          "data": {
            "text/plain": [
              "True"
            ]
          },
          "metadata": {},
          "execution_count": 25
        }
      ]
    },
    {
      "cell_type": "code",
      "source": [
        "import nltk as nl\n",
        "\n",
        "# Download the 'punkt' resource\n",
        "nl.download('punkt')"
      ],
      "metadata": {
        "colab": {
          "base_uri": "https://localhost:8080/"
        },
        "id": "qpzQFfM0nYJT",
        "outputId": "f41ad7d7-3a54-4e84-b7b8-9cfe40781cb0"
      },
      "execution_count": 27,
      "outputs": [
        {
          "output_type": "stream",
          "name": "stderr",
          "text": [
            "[nltk_data] Downloading package punkt to /root/nltk_data...\n",
            "[nltk_data]   Unzipping tokenizers/punkt.zip.\n"
          ]
        },
        {
          "output_type": "execute_result",
          "data": {
            "text/plain": [
              "True"
            ]
          },
          "metadata": {},
          "execution_count": 27
        }
      ]
    },
    {
      "cell_type": "code",
      "source": [
        "#preprocessing\n",
        "def remove_stop_words(w_token):\n",
        "    stop_words = set(nl.corpus.stopwords.words('english'))\n",
        "    filtered_words = []\n",
        "    ps = nl.stem.PorterStemmer()\n",
        "    for tmp_word in w_token:\n",
        "        if tmp_word not in stop_words:\n",
        "            filtered_words.append(tmp_word)\n",
        "    return filtered_words\n",
        "\n",
        "def process_sentence(s):\n",
        "    w_token = nl.tokenize.word_tokenize(s)\n",
        "    punctuations = [',','?','.',']','[','}','{','(',')','!','?',':',';','\"','\\'']\n",
        "    t2 = []\n",
        "    for w in w_token:\n",
        "        if w not in punctuations:\n",
        "            t2.append(w)\n",
        "    t3 = remove_stop_words(t2)\n",
        "    return {word: 1 for word in t3}\n",
        "\n",
        "\n",
        "positive_data_array = []\n",
        "\n",
        "# positive review prcocessing\n",
        "for p_review in positive:\n",
        "    positive_data_array.append([process_sentence(p_review),'positive'])\n",
        "\n",
        "\n",
        "\n",
        "negative_data_array = []\n",
        "i= 0\n",
        "\n",
        "#negative review processing\n",
        "for n_review in negative:\n",
        "        processed = [process_sentence(n_review),'negative']\n",
        "        negative_data_array.append(processed)\n",
        "\n",
        "        if(i<5):\n",
        "            print('review before processing->')            # demo purpose code to see the affect\n",
        "            print(n_review)\n",
        "            print('review after processing->')\n",
        "            print(processed)\n",
        "            print('-------------------------')\n",
        "            i+=1\n",
        "\n"
      ],
      "metadata": {
        "id": "vuWE1ern09EU",
        "colab": {
          "base_uri": "https://localhost:8080/",
          "height": 1000
        },
        "outputId": "f839dbf4-c4a4-46a7-cbe9-4ae23a4d7184"
      },
      "execution_count": 28,
      "outputs": [
        {
          "output_type": "error",
          "ename": "LookupError",
          "evalue": "\n**********************************************************************\n  Resource \u001b[93mstopwords\u001b[0m not found.\n  Please use the NLTK Downloader to obtain the resource:\n\n  \u001b[31m>>> import nltk\n  >>> nltk.download('stopwords')\n  \u001b[0m\n  For more information see: https://www.nltk.org/data.html\n\n  Attempted to load \u001b[93mcorpora/stopwords\u001b[0m\n\n  Searched in:\n    - '/root/nltk_data'\n    - '/usr/nltk_data'\n    - '/usr/share/nltk_data'\n    - '/usr/lib/nltk_data'\n    - '/usr/share/nltk_data'\n    - '/usr/local/share/nltk_data'\n    - '/usr/lib/nltk_data'\n    - '/usr/local/lib/nltk_data'\n**********************************************************************\n",
          "traceback": [
            "\u001b[0;31m---------------------------------------------------------------------------\u001b[0m",
            "\u001b[0;31mLookupError\u001b[0m                               Traceback (most recent call last)",
            "\u001b[0;32m/usr/local/lib/python3.10/dist-packages/nltk/corpus/util.py\u001b[0m in \u001b[0;36m__load\u001b[0;34m(self)\u001b[0m\n\u001b[1;32m     83\u001b[0m                 \u001b[0;32mtry\u001b[0m\u001b[0;34m:\u001b[0m\u001b[0;34m\u001b[0m\u001b[0;34m\u001b[0m\u001b[0m\n\u001b[0;32m---> 84\u001b[0;31m                     \u001b[0mroot\u001b[0m \u001b[0;34m=\u001b[0m \u001b[0mnltk\u001b[0m\u001b[0;34m.\u001b[0m\u001b[0mdata\u001b[0m\u001b[0;34m.\u001b[0m\u001b[0mfind\u001b[0m\u001b[0;34m(\u001b[0m\u001b[0;34mf\"{self.subdir}/{zip_name}\"\u001b[0m\u001b[0;34m)\u001b[0m\u001b[0;34m\u001b[0m\u001b[0;34m\u001b[0m\u001b[0m\n\u001b[0m\u001b[1;32m     85\u001b[0m                 \u001b[0;32mexcept\u001b[0m \u001b[0mLookupError\u001b[0m\u001b[0;34m:\u001b[0m\u001b[0;34m\u001b[0m\u001b[0;34m\u001b[0m\u001b[0m\n",
            "\u001b[0;32m/usr/local/lib/python3.10/dist-packages/nltk/data.py\u001b[0m in \u001b[0;36mfind\u001b[0;34m(resource_name, paths)\u001b[0m\n\u001b[1;32m    582\u001b[0m     \u001b[0mresource_not_found\u001b[0m \u001b[0;34m=\u001b[0m \u001b[0;34mf\"\\n{sep}\\n{msg}\\n{sep}\\n\"\u001b[0m\u001b[0;34m\u001b[0m\u001b[0;34m\u001b[0m\u001b[0m\n\u001b[0;32m--> 583\u001b[0;31m     \u001b[0;32mraise\u001b[0m \u001b[0mLookupError\u001b[0m\u001b[0;34m(\u001b[0m\u001b[0mresource_not_found\u001b[0m\u001b[0;34m)\u001b[0m\u001b[0;34m\u001b[0m\u001b[0;34m\u001b[0m\u001b[0m\n\u001b[0m\u001b[1;32m    584\u001b[0m \u001b[0;34m\u001b[0m\u001b[0m\n",
            "\u001b[0;31mLookupError\u001b[0m: \n**********************************************************************\n  Resource \u001b[93mstopwords\u001b[0m not found.\n  Please use the NLTK Downloader to obtain the resource:\n\n  \u001b[31m>>> import nltk\n  >>> nltk.download('stopwords')\n  \u001b[0m\n  For more information see: https://www.nltk.org/data.html\n\n  Attempted to load \u001b[93mcorpora/stopwords.zip/stopwords/\u001b[0m\n\n  Searched in:\n    - '/root/nltk_data'\n    - '/usr/nltk_data'\n    - '/usr/share/nltk_data'\n    - '/usr/lib/nltk_data'\n    - '/usr/share/nltk_data'\n    - '/usr/local/share/nltk_data'\n    - '/usr/lib/nltk_data'\n    - '/usr/local/lib/nltk_data'\n**********************************************************************\n",
            "\nDuring handling of the above exception, another exception occurred:\n",
            "\u001b[0;31mLookupError\u001b[0m                               Traceback (most recent call last)",
            "\u001b[0;32m<ipython-input-28-d9a1a26a5f52>\u001b[0m in \u001b[0;36m<cell line: 25>\u001b[0;34m()\u001b[0m\n\u001b[1;32m     24\u001b[0m \u001b[0;31m# positive review prcocessing\u001b[0m\u001b[0;34m\u001b[0m\u001b[0;34m\u001b[0m\u001b[0m\n\u001b[1;32m     25\u001b[0m \u001b[0;32mfor\u001b[0m \u001b[0mp_review\u001b[0m \u001b[0;32min\u001b[0m \u001b[0mpositive\u001b[0m\u001b[0;34m:\u001b[0m\u001b[0;34m\u001b[0m\u001b[0;34m\u001b[0m\u001b[0m\n\u001b[0;32m---> 26\u001b[0;31m     \u001b[0mpositive_data_array\u001b[0m\u001b[0;34m.\u001b[0m\u001b[0mappend\u001b[0m\u001b[0;34m(\u001b[0m\u001b[0;34m[\u001b[0m\u001b[0mprocess_sentence\u001b[0m\u001b[0;34m(\u001b[0m\u001b[0mp_review\u001b[0m\u001b[0;34m)\u001b[0m\u001b[0;34m,\u001b[0m\u001b[0;34m'positive'\u001b[0m\u001b[0;34m]\u001b[0m\u001b[0;34m)\u001b[0m\u001b[0;34m\u001b[0m\u001b[0;34m\u001b[0m\u001b[0m\n\u001b[0m\u001b[1;32m     27\u001b[0m \u001b[0;34m\u001b[0m\u001b[0m\n\u001b[1;32m     28\u001b[0m \u001b[0;34m\u001b[0m\u001b[0m\n",
            "\u001b[0;32m<ipython-input-28-d9a1a26a5f52>\u001b[0m in \u001b[0;36mprocess_sentence\u001b[0;34m(s)\u001b[0m\n\u001b[1;32m     16\u001b[0m         \u001b[0;32mif\u001b[0m \u001b[0mw\u001b[0m \u001b[0;32mnot\u001b[0m \u001b[0;32min\u001b[0m \u001b[0mpunctuations\u001b[0m\u001b[0;34m:\u001b[0m\u001b[0;34m\u001b[0m\u001b[0;34m\u001b[0m\u001b[0m\n\u001b[1;32m     17\u001b[0m             \u001b[0mt2\u001b[0m\u001b[0;34m.\u001b[0m\u001b[0mappend\u001b[0m\u001b[0;34m(\u001b[0m\u001b[0mw\u001b[0m\u001b[0;34m)\u001b[0m\u001b[0;34m\u001b[0m\u001b[0;34m\u001b[0m\u001b[0m\n\u001b[0;32m---> 18\u001b[0;31m     \u001b[0mt3\u001b[0m \u001b[0;34m=\u001b[0m \u001b[0mremove_stop_words\u001b[0m\u001b[0;34m(\u001b[0m\u001b[0mt2\u001b[0m\u001b[0;34m)\u001b[0m\u001b[0;34m\u001b[0m\u001b[0;34m\u001b[0m\u001b[0m\n\u001b[0m\u001b[1;32m     19\u001b[0m     \u001b[0;32mreturn\u001b[0m \u001b[0;34m{\u001b[0m\u001b[0mword\u001b[0m\u001b[0;34m:\u001b[0m \u001b[0;36m1\u001b[0m \u001b[0;32mfor\u001b[0m \u001b[0mword\u001b[0m \u001b[0;32min\u001b[0m \u001b[0mt3\u001b[0m\u001b[0;34m}\u001b[0m\u001b[0;34m\u001b[0m\u001b[0;34m\u001b[0m\u001b[0m\n\u001b[1;32m     20\u001b[0m \u001b[0;34m\u001b[0m\u001b[0m\n",
            "\u001b[0;32m<ipython-input-28-d9a1a26a5f52>\u001b[0m in \u001b[0;36mremove_stop_words\u001b[0;34m(w_token)\u001b[0m\n\u001b[1;32m      1\u001b[0m \u001b[0;31m#preprocessing\u001b[0m\u001b[0;34m\u001b[0m\u001b[0;34m\u001b[0m\u001b[0m\n\u001b[1;32m      2\u001b[0m \u001b[0;32mdef\u001b[0m \u001b[0mremove_stop_words\u001b[0m\u001b[0;34m(\u001b[0m\u001b[0mw_token\u001b[0m\u001b[0;34m)\u001b[0m\u001b[0;34m:\u001b[0m\u001b[0;34m\u001b[0m\u001b[0;34m\u001b[0m\u001b[0m\n\u001b[0;32m----> 3\u001b[0;31m     \u001b[0mstop_words\u001b[0m \u001b[0;34m=\u001b[0m \u001b[0mset\u001b[0m\u001b[0;34m(\u001b[0m\u001b[0mnl\u001b[0m\u001b[0;34m.\u001b[0m\u001b[0mcorpus\u001b[0m\u001b[0;34m.\u001b[0m\u001b[0mstopwords\u001b[0m\u001b[0;34m.\u001b[0m\u001b[0mwords\u001b[0m\u001b[0;34m(\u001b[0m\u001b[0;34m'english'\u001b[0m\u001b[0;34m)\u001b[0m\u001b[0;34m)\u001b[0m\u001b[0;34m\u001b[0m\u001b[0;34m\u001b[0m\u001b[0m\n\u001b[0m\u001b[1;32m      4\u001b[0m     \u001b[0mfiltered_words\u001b[0m \u001b[0;34m=\u001b[0m \u001b[0;34m[\u001b[0m\u001b[0;34m]\u001b[0m\u001b[0;34m\u001b[0m\u001b[0;34m\u001b[0m\u001b[0m\n\u001b[1;32m      5\u001b[0m     \u001b[0mps\u001b[0m \u001b[0;34m=\u001b[0m \u001b[0mnl\u001b[0m\u001b[0;34m.\u001b[0m\u001b[0mstem\u001b[0m\u001b[0;34m.\u001b[0m\u001b[0mPorterStemmer\u001b[0m\u001b[0;34m(\u001b[0m\u001b[0;34m)\u001b[0m\u001b[0;34m\u001b[0m\u001b[0;34m\u001b[0m\u001b[0m\n",
            "\u001b[0;32m/usr/local/lib/python3.10/dist-packages/nltk/corpus/util.py\u001b[0m in \u001b[0;36m__getattr__\u001b[0;34m(self, attr)\u001b[0m\n\u001b[1;32m    119\u001b[0m             \u001b[0;32mraise\u001b[0m \u001b[0mAttributeError\u001b[0m\u001b[0;34m(\u001b[0m\u001b[0;34m\"LazyCorpusLoader object has no attribute '__bases__'\"\u001b[0m\u001b[0;34m)\u001b[0m\u001b[0;34m\u001b[0m\u001b[0;34m\u001b[0m\u001b[0m\n\u001b[1;32m    120\u001b[0m \u001b[0;34m\u001b[0m\u001b[0m\n\u001b[0;32m--> 121\u001b[0;31m         \u001b[0mself\u001b[0m\u001b[0;34m.\u001b[0m\u001b[0m__load\u001b[0m\u001b[0;34m(\u001b[0m\u001b[0;34m)\u001b[0m\u001b[0;34m\u001b[0m\u001b[0;34m\u001b[0m\u001b[0m\n\u001b[0m\u001b[1;32m    122\u001b[0m         \u001b[0;31m# This looks circular, but its not, since __load() changes our\u001b[0m\u001b[0;34m\u001b[0m\u001b[0;34m\u001b[0m\u001b[0m\n\u001b[1;32m    123\u001b[0m         \u001b[0;31m# __class__ to something new:\u001b[0m\u001b[0;34m\u001b[0m\u001b[0;34m\u001b[0m\u001b[0m\n",
            "\u001b[0;32m/usr/local/lib/python3.10/dist-packages/nltk/corpus/util.py\u001b[0m in \u001b[0;36m__load\u001b[0;34m(self)\u001b[0m\n\u001b[1;32m     84\u001b[0m                     \u001b[0mroot\u001b[0m \u001b[0;34m=\u001b[0m \u001b[0mnltk\u001b[0m\u001b[0;34m.\u001b[0m\u001b[0mdata\u001b[0m\u001b[0;34m.\u001b[0m\u001b[0mfind\u001b[0m\u001b[0;34m(\u001b[0m\u001b[0;34mf\"{self.subdir}/{zip_name}\"\u001b[0m\u001b[0;34m)\u001b[0m\u001b[0;34m\u001b[0m\u001b[0;34m\u001b[0m\u001b[0m\n\u001b[1;32m     85\u001b[0m                 \u001b[0;32mexcept\u001b[0m \u001b[0mLookupError\u001b[0m\u001b[0;34m:\u001b[0m\u001b[0;34m\u001b[0m\u001b[0;34m\u001b[0m\u001b[0m\n\u001b[0;32m---> 86\u001b[0;31m                     \u001b[0;32mraise\u001b[0m \u001b[0me\u001b[0m\u001b[0;34m\u001b[0m\u001b[0;34m\u001b[0m\u001b[0m\n\u001b[0m\u001b[1;32m     87\u001b[0m \u001b[0;34m\u001b[0m\u001b[0m\n\u001b[1;32m     88\u001b[0m         \u001b[0;31m# Load the corpus.\u001b[0m\u001b[0;34m\u001b[0m\u001b[0;34m\u001b[0m\u001b[0m\n",
            "\u001b[0;32m/usr/local/lib/python3.10/dist-packages/nltk/corpus/util.py\u001b[0m in \u001b[0;36m__load\u001b[0;34m(self)\u001b[0m\n\u001b[1;32m     79\u001b[0m         \u001b[0;32melse\u001b[0m\u001b[0;34m:\u001b[0m\u001b[0;34m\u001b[0m\u001b[0;34m\u001b[0m\u001b[0m\n\u001b[1;32m     80\u001b[0m             \u001b[0;32mtry\u001b[0m\u001b[0;34m:\u001b[0m\u001b[0;34m\u001b[0m\u001b[0;34m\u001b[0m\u001b[0m\n\u001b[0;32m---> 81\u001b[0;31m                 \u001b[0mroot\u001b[0m \u001b[0;34m=\u001b[0m \u001b[0mnltk\u001b[0m\u001b[0;34m.\u001b[0m\u001b[0mdata\u001b[0m\u001b[0;34m.\u001b[0m\u001b[0mfind\u001b[0m\u001b[0;34m(\u001b[0m\u001b[0;34mf\"{self.subdir}/{self.__name}\"\u001b[0m\u001b[0;34m)\u001b[0m\u001b[0;34m\u001b[0m\u001b[0;34m\u001b[0m\u001b[0m\n\u001b[0m\u001b[1;32m     82\u001b[0m             \u001b[0;32mexcept\u001b[0m \u001b[0mLookupError\u001b[0m \u001b[0;32mas\u001b[0m \u001b[0me\u001b[0m\u001b[0;34m:\u001b[0m\u001b[0;34m\u001b[0m\u001b[0;34m\u001b[0m\u001b[0m\n\u001b[1;32m     83\u001b[0m                 \u001b[0;32mtry\u001b[0m\u001b[0;34m:\u001b[0m\u001b[0;34m\u001b[0m\u001b[0;34m\u001b[0m\u001b[0m\n",
            "\u001b[0;32m/usr/local/lib/python3.10/dist-packages/nltk/data.py\u001b[0m in \u001b[0;36mfind\u001b[0;34m(resource_name, paths)\u001b[0m\n\u001b[1;32m    581\u001b[0m     \u001b[0msep\u001b[0m \u001b[0;34m=\u001b[0m \u001b[0;34m\"*\"\u001b[0m \u001b[0;34m*\u001b[0m \u001b[0;36m70\u001b[0m\u001b[0;34m\u001b[0m\u001b[0;34m\u001b[0m\u001b[0m\n\u001b[1;32m    582\u001b[0m     \u001b[0mresource_not_found\u001b[0m \u001b[0;34m=\u001b[0m \u001b[0;34mf\"\\n{sep}\\n{msg}\\n{sep}\\n\"\u001b[0m\u001b[0;34m\u001b[0m\u001b[0;34m\u001b[0m\u001b[0m\n\u001b[0;32m--> 583\u001b[0;31m     \u001b[0;32mraise\u001b[0m \u001b[0mLookupError\u001b[0m\u001b[0;34m(\u001b[0m\u001b[0mresource_not_found\u001b[0m\u001b[0;34m)\u001b[0m\u001b[0;34m\u001b[0m\u001b[0;34m\u001b[0m\u001b[0m\n\u001b[0m\u001b[1;32m    584\u001b[0m \u001b[0;34m\u001b[0m\u001b[0m\n\u001b[1;32m    585\u001b[0m \u001b[0;34m\u001b[0m\u001b[0m\n",
            "\u001b[0;31mLookupError\u001b[0m: \n**********************************************************************\n  Resource \u001b[93mstopwords\u001b[0m not found.\n  Please use the NLTK Downloader to obtain the resource:\n\n  \u001b[31m>>> import nltk\n  >>> nltk.download('stopwords')\n  \u001b[0m\n  For more information see: https://www.nltk.org/data.html\n\n  Attempted to load \u001b[93mcorpora/stopwords\u001b[0m\n\n  Searched in:\n    - '/root/nltk_data'\n    - '/usr/nltk_data'\n    - '/usr/share/nltk_data'\n    - '/usr/lib/nltk_data'\n    - '/usr/share/nltk_data'\n    - '/usr/local/share/nltk_data'\n    - '/usr/lib/nltk_data'\n    - '/usr/local/lib/nltk_data'\n**********************************************************************\n"
          ]
        }
      ]
    },
    {
      "cell_type": "code",
      "source": [
        "import nltk\n",
        "nltk.download('stopwords')"
      ],
      "metadata": {
        "colab": {
          "base_uri": "https://localhost:8080/"
        },
        "id": "BVz7mNecnvue",
        "outputId": "4e60d444-3a32-4f05-c0be-7643d118212b"
      },
      "execution_count": 30,
      "outputs": [
        {
          "output_type": "stream",
          "name": "stderr",
          "text": [
            "[nltk_data] Downloading package stopwords to /root/nltk_data...\n",
            "[nltk_data]   Unzipping corpora/stopwords.zip.\n"
          ]
        },
        {
          "output_type": "execute_result",
          "data": {
            "text/plain": [
              "True"
            ]
          },
          "metadata": {},
          "execution_count": 30
        }
      ]
    },
    {
      "cell_type": "code",
      "source": [
        "#preprocessing\n",
        "def remove_stop_words(w_token):\n",
        "    stop_words = set(nl.corpus.stopwords.words('english'))\n",
        "    filtered_words = []\n",
        "    ps = nl.stem.PorterStemmer()\n",
        "    for tmp_word in w_token:\n",
        "        if tmp_word not in stop_words:\n",
        "            filtered_words.append(tmp_word)\n",
        "    return filtered_words\n",
        "\n",
        "def process_sentence(s):\n",
        "    w_token = nl.tokenize.word_tokenize(s)\n",
        "    punctuations = [',','?','.',']','[','}','{','(',')','!','?',':',';','\"','\\'']\n",
        "    t2 = []\n",
        "    for w in w_token:\n",
        "        if w not in punctuations:\n",
        "            t2.append(w)\n",
        "    t3 = remove_stop_words(t2)\n",
        "    return {word: 1 for word in t3}\n",
        "\n",
        "\n",
        "positive_data_array = []\n",
        "\n",
        "# positive review prcocessing\n",
        "for p_review in positive:\n",
        "    positive_data_array.append([process_sentence(p_review),'positive'])\n",
        "\n",
        "\n",
        "\n",
        "negative_data_array = []\n",
        "i= 0\n",
        "\n",
        "#negative review processing\n",
        "for n_review in negative:\n",
        "        processed = [process_sentence(n_review),'negative']\n",
        "        negative_data_array.append(processed)\n",
        "\n",
        "        if(i<5):\n",
        "            print('review before processing->')            # demo purpose code to see the affect\n",
        "            print(n_review)\n",
        "            print('review after processing->')\n",
        "            print(processed)\n",
        "            print('-------------------------')\n",
        "            i+=1"
      ],
      "metadata": {
        "colab": {
          "base_uri": "https://localhost:8080/"
        },
        "id": "BRkIcJQXngQ4",
        "outputId": "7c622c3c-0f72-4b65-bb9c-b5ca6b05fcaf"
      },
      "execution_count": 31,
      "outputs": [
        {
          "output_type": "stream",
          "name": "stdout",
          "text": [
            "review before processing->\n",
            "simplistic , silly and tedious . \n",
            "\n",
            "review after processing->\n",
            "[{'simplistic': 1, 'silly': 1, 'tedious': 1}, 'negative']\n",
            "-------------------------\n",
            "review before processing->\n",
            "it's so laddish and juvenile , only teenage boys could possibly find it funny . \n",
            "\n",
            "review after processing->\n",
            "[{\"'s\": 1, 'laddish': 1, 'juvenile': 1, 'teenage': 1, 'boys': 1, 'could': 1, 'possibly': 1, 'find': 1, 'funny': 1}, 'negative']\n",
            "-------------------------\n",
            "review before processing->\n",
            "exploitative and largely devoid of the depth or sophistication that would make watching such a graphic treatment of the crimes bearable . \n",
            "\n",
            "review after processing->\n",
            "[{'exploitative': 1, 'largely': 1, 'devoid': 1, 'depth': 1, 'sophistication': 1, 'would': 1, 'make': 1, 'watching': 1, 'graphic': 1, 'treatment': 1, 'crimes': 1, 'bearable': 1}, 'negative']\n",
            "-------------------------\n",
            "review before processing->\n",
            "[garbus] discards the potential for pathological study , exhuming instead , the skewed melodrama of the circumstantial situation . \n",
            "\n",
            "review after processing->\n",
            "[{'garbus': 1, 'discards': 1, 'potential': 1, 'pathological': 1, 'study': 1, 'exhuming': 1, 'instead': 1, 'skewed': 1, 'melodrama': 1, 'circumstantial': 1, 'situation': 1}, 'negative']\n",
            "-------------------------\n",
            "review before processing->\n",
            "a visually flashy but narratively opaque and emotionally vapid exercise in style and mystification . \n",
            "\n",
            "review after processing->\n",
            "[{'visually': 1, 'flashy': 1, 'narratively': 1, 'opaque': 1, 'emotionally': 1, 'vapid': 1, 'exercise': 1, 'style': 1, 'mystification': 1}, 'negative']\n",
            "-------------------------\n"
          ]
        }
      ]
    },
    {
      "cell_type": "code",
      "source": [
        "import random\n",
        "random.shuffle(positive_data_array)\n",
        "random.shuffle(negative_data_array)\n",
        "\n",
        "#partitioning\n",
        "training_set = positive_data_array[:3000]+negative_data_array[:3000]\n",
        "test_set =positive_data_array[3000:]+negative_data_array[3000:]\n",
        "\n",
        "\n",
        "# Training\n",
        "classifier = nl.NaiveBayesClassifier.train(training_set)"
      ],
      "metadata": {
        "id": "3BPwgBTn2AYx"
      },
      "execution_count": 32,
      "outputs": []
    },
    {
      "cell_type": "code",
      "source": [
        "print(classifier.classify(process_sentence('very bad movie. I have wasted my money.')))"
      ],
      "metadata": {
        "colab": {
          "base_uri": "https://localhost:8080/"
        },
        "id": "hWAuiV9c2QHe",
        "outputId": "7c0b9e4d-5668-470e-a76c-8e7d40042e73"
      },
      "execution_count": 33,
      "outputs": [
        {
          "output_type": "stream",
          "name": "stdout",
          "text": [
            "negative\n"
          ]
        }
      ]
    },
    {
      "cell_type": "markdown",
      "source": [
        "## Test on live Data"
      ],
      "metadata": {
        "id": "iYgKi7NsEB_V"
      }
    },
    {
      "cell_type": "code",
      "source": [
        "reviews = []\n",
        "raw_text = soup.find_all('div', {'class':'text show-more__control'})\n",
        "\n",
        "for temp in raw_text:\n",
        "    reviews.append(temp.get_text())"
      ],
      "metadata": {
        "id": "PsNRv0d33OWq"
      },
      "execution_count": 34,
      "outputs": []
    },
    {
      "cell_type": "code",
      "source": [
        "for review in reviews:\n",
        "  print(\"Review:\",review)\n",
        "  print(\"Sentiment:\", classifier.classify(process_sentence(review)))\n",
        "  print('\\n-----------------------------------------------------\\n')"
      ],
      "metadata": {
        "id": "Pl3XUe0p2i7Q",
        "colab": {
          "base_uri": "https://localhost:8080/"
        },
        "outputId": "ee177cf8-2f26-4525-d14f-5715acf59df9"
      },
      "execution_count": 35,
      "outputs": [
        {
          "output_type": "stream",
          "name": "stdout",
          "text": [
            "Review: The music and weapons reminded me of pubg 😝honestly loved Vicky kaushals performance\n",
            "Loved yami gautam's characterSatisfied with the acting and the direction is on another level.And the amazing music which gives you feels 🔥 and goosebumps.Cinematography is excellent but editing could have been better.How nicely they have put down the real life incidentThe only complain I have with this movie is it is little slow but that's okay it was based on real life incident and not a completely script so that's okay. And the movie could have avoid the melodramatic part.\n",
            "Sentiment: positive\n",
            "\n",
            "-----------------------------------------------------\n",
            "\n",
            "Review: The movie was very gripping from the very start. Excellent all round acting especially by Vicky Kaushal. The VFX effects were better then most that we have seen recently.Good watch\n",
            "Sentiment: positive\n",
            "\n",
            "-----------------------------------------------------\n",
            "\n",
            "Review: No doubt this is the best war/ military movie made in india.\n",
            "Sentiment: positive\n",
            "\n",
            "-----------------------------------------------------\n",
            "\n",
            "Review: If I have to say in one word then it'd be MASTERPIECE. It can very well be a classic...a cult classic like Border. This movie doesn't portray blatant Jingoism but strikes the right chords of patriotism with maintaining the right balance. It is so well done that you'd crave for more even if it ends. Everyone performed very well and Vicky Kaushal was stunning. The movie is very inspiring and everyone especially the young generation should watch it to know what the army men do for them. The movie is not political at all but yellow media will try to demean it for 'certain' reasons.\n",
            "I still can't get over the top notch screenplay, direction, background scores, visuals and performances. A straight 9.5/10 (or may be 10/10 if I don't be skeptical) from me.\n",
            "Sentiment: negative\n",
            "\n",
            "-----------------------------------------------------\n",
            "\n",
            "Review: This movie is so real.\n",
            "Direction is superb.\n",
            "Vicky kausal is brilliant in his performance.\n",
            "Script is tightly bound.\n",
            "Music just complements the action, makes it even better.Must watch !!\n",
            "Sentiment: positive\n",
            "\n",
            "-----------------------------------------------------\n",
            "\n",
            "Review: Watched a wartime movie after long time but I must say this one was the best I saw till date. This movie has a no nonsense plot which is entirely focused on the operation that was conducted for URI. The best part of this movie was there was no unnecessary romantic scene. Another best part of this movie was there was no unnecessary talks, cuss words to show the army's behavior, unlike other movies in past where half of the time is use to convince the audience why the operations are necessary. This is a must watch movie for everyone.\n",
            "Sentiment: negative\n",
            "\n",
            "-----------------------------------------------------\n",
            "\n",
            "Review: Excellent movie loved it this is the first Indian movie that represents modern Indian Army Aditya dhar done a great job by showing our modern army and special forces and their tactics and operations to civilians my rating is 10/10🇮🇳\n",
            "Sentiment: negative\n",
            "\n",
            "-----------------------------------------------------\n",
            "\n",
            "Review: Hats off to cinematographer , director, script writer for their individual performance rather than only hailing about actors and actresses.This types of movies make india proud, a movie that was waiting to be applauded from us 🙏\n",
            "Sentiment: negative\n",
            "\n",
            "-----------------------------------------------------\n",
            "\n",
            "Review: Huge respect for our soldiers who put their life at risk and neutralized the terrorists. The movie does justice to their heroics.\n",
            "Sentiment: positive\n",
            "\n",
            "-----------------------------------------------------\n",
            "\n",
            "Review: Cinematically flawed yet a praiseworthy attempt to depict an event previously unheard in India's military history. Vicky Kaushal portrays the lead perfectly. Our films do project over emotional or chest thumping Army Officers but Vicky's character is a perfect blend of suppressed emotion coated with a sense of duty. His performance undoubtedly is the greatest asset of the film. Paresh Rawal's character which is based on the lines of NIA chief Ajit Doval keeps the story moving forward. Although I feel certain dialogues like \"Surgical Strike karte hain\" in a closed door meeting with the PM and other top notches or \"Halke halke badhate rahiyega\" could have been better conceived. The Drone selection scene where an intern makes the DRDO chief look like a fool and earn Paresh's compliment \"Son you may have just won us the War\" seemed to be an attempt of comic relief. But only an actor of the calibre of Paresh Rawal could have pulled it off and he did it with a natural candour.There were other plot loopholes. The main mission was made too easy. The strikes were picturesque but the climax lacked nail biting sequences. You are in the enemy's territory furtively and wiping out a selected bunch of dreaded terrorists!!! This is where a Black Hawk Down or a Hurt Locker scores. In the end the resolute of one who decided to overstay to kill the last man standing proved that after all it's Bollywood.Apart from Vicky and Rawal's performance, casting and cinematography deserves a thundering applause. Army thrillers tend to be multistarrers and hence there's always a pressure on the script to accommodate everyone's heroics. Uri is free from this defect and therefore the actors successfully become characters in the plot. Coming to the photogenic part, Uri is visually brilliant. The long range shots of valley, the stretches of Baramulla, the night scenes were wonderfully shot.Overall, definitely a one time watch.\n",
            "Sentiment: positive\n",
            "\n",
            "-----------------------------------------------------\n",
            "\n",
            "Review: Awesome movie 👍👍👍 fill real. Execution of story is great. After Sunny Deoval Border movie. This one is came even better. Background music is just amazing. Everyone should watch this movie.\n",
            "Sentiment: positive\n",
            "\n",
            "-----------------------------------------------------\n",
            "\n",
            "Review: Great war movies don't glorify bloodshed in wars... what's great about saving private ryan and dunkirk- they don't glorify wars.. The viewer is sane enough to infer who is wrong and who is right.. for an effective storytelling the filmmakers should avoid explicitly telling viewers to side with an army\n",
            "Sentiment: positive\n",
            "\n",
            "-----------------------------------------------------\n",
            "\n",
            "Review: Its better to watch the documentary available of uri surgical strike available in youtube. That will give a better knowledge of the surgical strike.\n",
            "Sentiment: positive\n",
            "\n",
            "-----------------------------------------------------\n",
            "\n",
            "Review: All the characters has done a fantastic job. Well written and directed, awesome music tracks, pounding dialogues. Just go and watch it PERIOD.\n",
            "Sentiment: positive\n",
            "\n",
            "-----------------------------------------------------\n",
            "\n",
            "Review: URI:THE SURGICAL STRIKE is not only one of the best indian war films but one of the best international war films ever made. Debutante Aditya Dhar has done an amazing job with his direction. Mitish Mirchandanis amazing cinematography, stellar vfx (the vfx is mind blowing) and an absolute intergalactic background score and music. All the actors in the film have potrayed and amazing job. A great start to 2019 with URI. DEFINITELY A MUST WATCH.\n",
            "Sentiment: positive\n",
            "\n",
            "-----------------------------------------------------\n",
            "\n",
            "Review: It is awesome movie to watch in theater and acting is super awesome by Vick Kausal and song gave me goosebumps.\n",
            "Sentiment: negative\n",
            "\n",
            "-----------------------------------------------------\n",
            "\n",
            "Review: Perfect. PAISA WASOOL. Vicky Kaushal Brilliant. Nailed It.\n",
            "Sentiment: positive\n",
            "\n",
            "-----------------------------------------------------\n",
            "\n",
            "Review: I should reccomend everyone to watch this movie.....\n",
            "Sentiment: negative\n",
            "\n",
            "-----------------------------------------------------\n",
            "\n",
            "Review: Things happen all over the world. And sometimes movies about those things happening bring them closer to those oblivious to them. For me this is one of those instances. And while there is some melodrama and some patriotic things that I may not fully agree with (look for those things in many Hollywood blockbusters too), the fact that this has no song and dance numbers makes me happy - and enjoy the movie more.My personal preferences aside, the action on display here is really something! The stunt work is very good and if you are faint hearted you may have some issues watching this. Just because certain things have to be taken with a grain of salt, does not make them less appealing. Maybe it will make you look into what actually happened too. Mission accomplished.\n",
            "Sentiment: positive\n",
            "\n",
            "-----------------------------------------------------\n",
            "\n",
            "Review: ------Uri: The Surgical Strike Movie Review: Vicky Kaushals Sterling Performance Adds To The High Josh!Debutant director Aditya Dhar needs to be patted on his back for his well-researched work before transferring his vision on the big screen. In reality, while India and Pakistan's version of this 'surgical strike' have always differed, the film-maker mixes fiction with the facts available in public domain to present a gripping narrative about this covert operation. Without resorting to forced patriotism, the emotions flow naturally in the film.On the flip-side, the film-maker spends a little too much time in building up the drama to establish a personal connect with the characters in the first half of the film. This tends to slow down the pace of the narrative leaving you a bit dry as you eagerly wait for the action to begin.Vicky Kaushal is in a terrific form as the man in uniform and proves yet again why he is one of the best from the current crop of Gen-X actors.Mohit Raina (Mahadev-shiv) makes an impressive transition to the big screen and has a commendable screen presence.Yami Gautam's character begins on an interesting note. However, Aditya Dhar fails to explore more sides to it....yami's role is dull..!!Cinematography is neat and leaves you at the edge of your seats especially in the last 20 minutes of the film.Stefan Richter's action sequences are top-notch and well-choreographed.Every time, Vicky Kaushal's Vihaan screams, 'How's the Josh?' to his battalion of soldiers, you feel the adrenaline rush as you hear, 'Very high, Sir.'Uri manages to make your heart swell with pride for the armed forces who are always ready to sacrifice their lives for the nation.\n",
            "Sentiment: positive\n",
            "\n",
            "-----------------------------------------------------\n",
            "\n",
            "Review: I would really like to appreciate Aditya Dharma for his direction and Vicky Kaushal has truly given a lively performance. This is a beautiful movie which tells the surgical strike incident in a precise way.\n",
            "Sentiment: positive\n",
            "\n",
            "-----------------------------------------------------\n",
            "\n",
            "Review: I mean seriously a movie had to be made by the govt to sell the lies to the people, Acting is superb and overall the actors and the team did a great job\n",
            "Sentiment: negative\n",
            "\n",
            "-----------------------------------------------------\n",
            "\n",
            "Review: Well it showed many flaws only the emotional drama was bang on targetParesh Rawal is generally a very good actor but in this film..neither his way of speaking nor his attitude convinced me of his high rank portrayed in this movieA high ranking official of the Army (the lady officer) who is an active member of surgical strike plan...would never be sent to someone home as a nurse.. do you think that is believable?The Garood ..that flying surveillance bird which ..could see everything..but it missed the Pakistani boy approaching the window....If i keep on going i can name another 100 flaws...some tactical terms will like \"handler\" and a few others will not really play the trick to convince the viewer of such a skillful operation...Poor execution and flaws pulled it down\n",
            "Sentiment: negative\n",
            "\n",
            "-----------------------------------------------------\n",
            "\n",
            "Review: Few movies that get your patriotism to the peak and then leave you speechless at the end of it with sheer brilliance of direction, action direction, writing, acting, and attention to details.Hence proven, superstars don't make films- films make superstars.- Vicky brilliant as usual (Kudos to the leads and the supports)\n",
            "Eagerly waiting for this winning team to craft many more such high quality cinematic experiences.Go watch the film, now!\n",
            "Sentiment: positive\n",
            "\n",
            "-----------------------------------------------------\n",
            "\n",
            "Review: Bollywood should release more than 10 movies like this. Its a new level movie. And no songs is the best.\n",
            "Sentiment: positive\n",
            "\n",
            "-----------------------------------------------------\n",
            "\n"
          ]
        }
      ]
    },
    {
      "cell_type": "code",
      "source": [],
      "metadata": {
        "id": "Q1cgYF_jn9sI"
      },
      "execution_count": null,
      "outputs": []
    }
  ],
  "metadata": {
    "kernelspec": {
      "display_name": "Python 3",
      "language": "python",
      "name": "python3"
    },
    "language_info": {
      "codemirror_mode": {
        "name": "ipython",
        "version": 3
      },
      "file_extension": ".py",
      "mimetype": "text/x-python",
      "name": "python",
      "nbconvert_exporter": "python",
      "pygments_lexer": "ipython3",
      "version": "3.6.5"
    },
    "colab": {
      "provenance": []
    }
  },
  "nbformat": 4,
  "nbformat_minor": 0
}